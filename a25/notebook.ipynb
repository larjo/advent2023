{
 "cells": [
  {
   "cell_type": "code",
   "execution_count": 107,
   "metadata": {},
   "outputs": [],
   "source": [
    "def read_graph_from_file(file_path):\n",
    "    # Initialize an empty list for edges\n",
    "    edges = []\n",
    "\n",
    "    # Open the file for reading\n",
    "    with open(file_path, 'r') as file:\n",
    "        # Read each line in the file\n",
    "        for line in file:\n",
    "            # Split the line into the node and its connected nodes\n",
    "            parts = line.strip().split(':')\n",
    "            node = parts[0].strip()\n",
    "            if len(parts) > 1:  # Check if there are connected nodes\n",
    "                connected_nodes = parts[1].strip().split()\n",
    "\n",
    "                # Add each connection as an edge\n",
    "                for cn in connected_nodes:\n",
    "                    edges.append((node, cn))\n",
    "\n",
    "    # Extract nodes from the edges list\n",
    "    nodes = set([item for sublist in edges\n",
    "                      for item in sublist])\n",
    "\n",
    "    return list(nodes), edges"
   ]
  },
  {
   "cell_type": "code",
   "execution_count": 111,
   "metadata": {},
   "outputs": [
    {
     "name": "stdout",
     "output_type": "stream",
     "text": [
      "Product of components: 547080\n"
     ]
    }
   ],
   "source": [
    "import networkx as nx\n",
    "import numpy as np\n",
    "\n",
    "nodes, edges = read_graph_from_file(\"assets/input.txt\")\n",
    "G = nx.Graph()\n",
    "G.add_nodes_from(nodes)\n",
    "G.add_edges_from(edges)\n",
    "\n",
    "G.remove_edges_from(nx.minimum_edge_cut(G))\n",
    "print(\"Product of components:\", np.prod(list(map(len, nx.connected_components(G)))))\n"
   ]
  },
  {
   "cell_type": "code",
   "execution_count": null,
   "metadata": {},
   "outputs": [],
   "source": [
    "from pyvis.network import Network\n",
    "import networkx as nx\n",
    "import numpy as np\n",
    "\n",
    "nodes, edges = read_graph_from_file(\"assets/example.txt\")\n",
    "G = nx.Graph()\n",
    "G.add_nodes_from(nodes)\n",
    "G.add_edges_from(edges)\n",
    "\n",
    "net = Network(notebook = True, cdn_resources='remote')\n",
    "net.from_nx(G)\n",
    "net.save_graph(\"networkx-pyvis.html\")\n",
    "\n",
    "spec = nx.laplacian_spectrum(G)\n",
    "print(\"Laplacian Spectrum:\", spec)\n",
    "\n",
    "conn = nx.algebraic_connectivity(G)\n",
    "print(\"Algebraic Connectivity:\", conn)\n",
    "# G.remove_edge('hfx', 'pzl')\n",
    "# G.remove_edge('jqt', 'nvd')\n",
    "# G.remove_edge('bvb', 'cmg')\n",
    "# \n",
    "# print(\"Algebraic Connectivity:\", nx.algebraic_connectivity(G))\n",
    "\n",
    "# Create the adjacency matrix\n",
    "adj_matrix = nx.to_numpy_array(G)\n",
    "print(\"Adjacency Matrix:\")\n",
    "print(adj_matrix)\n",
    "print(G.nodes)\n",
    "a2 = np.matmul(adj_matrix, adj_matrix)\n",
    "a4 = np.matmul(a2, a2)\n",
    "a8 = np.matmul(a4, a4)\n",
    "a16 = np.matmul(a8, a8)\n",
    "a32 = np.matmul(a16, a16)\n",
    "def normalize(x):\n",
    "    return 1 if x > 0 else 0\n",
    "print(\"A^32:\")\n",
    "print(np.vectorize(normalize)(a32))\n",
    "\n",
    "laplace = nx.laplacian_matrix(G).toarray()\n",
    "print(\"Laplacian Matrix:\")\n",
    "print(laplace)"
   ]
  }
 ],
 "metadata": {
  "kernelspec": {
   "display_name": "Python 3",
   "language": "python",
   "name": "python3"
  },
  "language_info": {
   "codemirror_mode": {
    "name": "ipython",
    "version": 3
   },
   "file_extension": ".py",
   "mimetype": "text/x-python",
   "name": "python",
   "nbconvert_exporter": "python",
   "pygments_lexer": "ipython3",
   "version": "3.11.6"
  }
 },
 "nbformat": 4,
 "nbformat_minor": 2
}
